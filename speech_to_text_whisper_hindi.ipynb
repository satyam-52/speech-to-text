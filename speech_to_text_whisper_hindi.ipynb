{
  "nbformat": 4,
  "nbformat_minor": 0,
  "metadata": {
    "colab": {
      "provenance": [],
      "gpuType": "T4",
      "authorship_tag": "ABX9TyPAy1ky9H0YLJ5O6kattGG0",
      "include_colab_link": true
    },
    "kernelspec": {
      "name": "python3",
      "display_name": "Python 3"
    },
    "language_info": {
      "name": "python"
    },
    "accelerator": "GPU"
  },
  "cells": [
    {
      "cell_type": "markdown",
      "metadata": {
        "id": "view-in-github",
        "colab_type": "text"
      },
      "source": [
        "<a href=\"https://colab.research.google.com/github/satyam-52/speech-to-text/blob/main/speech_to_text_whisper_hindi.ipynb\" target=\"_parent\"><img src=\"https://colab.research.google.com/assets/colab-badge.svg\" alt=\"Open In Colab\"/></a>"
      ]
    },
    {
      "cell_type": "code",
      "execution_count": null,
      "metadata": {
        "id": "qN4ry8_xh3gY"
      },
      "outputs": [],
      "source": [
        "!pip install transformers torch torchaudio accelerate googletrans==4.0.0rc1"
      ]
    },
    {
      "cell_type": "code",
      "source": [
        "import torch\n",
        "from transformers import pipeline\n",
        "from google.colab import files\n",
        "from googletrans import Translator\n",
        "import IPython.display as ipd\n",
        "import os"
      ],
      "metadata": {
        "id": "O2NoJP8fki6x"
      },
      "execution_count": null,
      "outputs": []
    },
    {
      "cell_type": "code",
      "source": [
        "def initialize_models():\n",
        "    \"\"\"Initialize transcription model and Google Translator\"\"\"\n",
        "    device = \"cuda:0\" if torch.cuda.is_available() else \"cpu\"\n",
        "    print(f\"Using device: {device}\")\n",
        "\n",
        "    # Transcription model\n",
        "    print(\"Loading Whisper Hindi Large-v2 model...\")\n",
        "    transcribe = pipeline(\n",
        "        task=\"automatic-speech-recognition\",\n",
        "        model=\"vasista22/whisper-hindi-large-v2\",\n",
        "        chunk_length_s=30,\n",
        "        device=device\n",
        "    )\n",
        "\n",
        "    transcribe.model.config.forced_decoder_ids = transcribe.tokenizer.get_decoder_prompt_ids(\n",
        "        language=\"hi\",\n",
        "        task=\"transcribe\"\n",
        "    )\n",
        "\n",
        "    # Google Translator\n",
        "    print(\"Initializing Google Translator...\")\n",
        "    translator = Translator()\n",
        "\n",
        "    print(\"Models loaded successfully!\")\n",
        "    return transcribe, translator"
      ],
      "metadata": {
        "id": "Nrs8qnmx1Ozg"
      },
      "execution_count": null,
      "outputs": []
    },
    {
      "cell_type": "code",
      "source": [
        "def transcribe_and_translate_google(audio_path, transcribe_model, translator):\n",
        "    \"\"\"\n",
        "    Transcribe Hindi audio and translate to English using Google Translate\n",
        "    \"\"\"\n",
        "    try:\n",
        "        # Transcribe\n",
        "        print(\"Transcribing audio...\")\n",
        "        result = transcribe_model(audio_path)\n",
        "        hindi_text = result[\"text\"]\n",
        "\n",
        "        # Translate using Google Translate\n",
        "        print(\"Translating to English using Google Translate...\")\n",
        "        translation = translator.translate(hindi_text, src='hi', dest='en')\n",
        "        english_text = translation.text\n",
        "\n",
        "        return hindi_text, english_text\n",
        "\n",
        "    except Exception as e:\n",
        "        print(f\"Error: {e}\")\n",
        "        return None, None"
      ],
      "metadata": {
        "id": "4mLTQjIh1Tli"
      },
      "execution_count": null,
      "outputs": []
    },
    {
      "cell_type": "code",
      "source": [
        "# Test the translation with your example\n",
        "def test_translation():\n",
        "    translator = Translator()\n",
        "    test_text = \"मेरा नाम सत्यम है\"\n",
        "    result = translator.translate(test_text, src='hi', dest='en')\n",
        "    print(f\"Test Hindi: {test_text}\")\n",
        "    print(f\"Test English: {result.text}\")"
      ],
      "metadata": {
        "id": "F-Qo727S1Xip"
      },
      "execution_count": null,
      "outputs": []
    },
    {
      "cell_type": "code",
      "source": [
        "# Run test first\n",
        "print(\"Testing translation accuracy:\")\n",
        "test_translation()\n",
        "\n",
        "# Initialize models\n",
        "transcriber, translator = initialize_models()\n",
        "\n",
        "# Upload and process audio\n",
        "print(\"\\nPlease upload your Hindi audio file:\")\n",
        "uploaded = files.upload()\n",
        "audio_file = list(uploaded.keys())[0]\n",
        "\n",
        "# Process the audio\n",
        "hindi_transcription, english_translation = transcribe_and_translate_google(\n",
        "    audio_file, transcriber, translator\n",
        ")\n",
        "\n",
        "if hindi_transcription and english_translation:\n",
        "    print(\"\\n\" + \"=\"*60)\n",
        "    print(\"RESULTS:\")\n",
        "    print(\"=\"*60)\n",
        "    print(\"📝 HINDI TRANSCRIPTION:\")\n",
        "    print(hindi_transcription)\n",
        "    print(\"\\n🔄 ENGLISH TRANSLATION (Google Translate):\")\n",
        "    print(english_translation)\n",
        "    print(\"=\"*60)\n",
        "else:\n",
        "    print(\"Processing failed!\")\n",
        "\n",
        "\n",
        "# Save Hindi transcription\n",
        "hindi_filename = f\"{audio_file}_hindi_transcription.txt\"\n",
        "with open(hindi_filename, 'w', encoding='utf-8') as f:\n",
        "    f.write(hindi_transcription)\n",
        "\n",
        "# Save English translation\n",
        "english_filename = f\"{audio_file}_english_translation.txt\"\n",
        "with open(english_filename, 'w', encoding='utf-8') as f:\n",
        "    f.write(english_translation)\n",
        "\n",
        "# Save combined results\n",
        "combined_filename = f\"{audio_file}_transcription_and_translation.txt\"\n",
        "with open(combined_filename, 'w', encoding='utf-8') as f:\n",
        "    f.write(\"HINDI TRANSCRIPTION:\\n\")\n",
        "    f.write(\"=\" * 30 + \"\\n\")\n",
        "    f.write(hindi_transcription + \"\\n\\n\")\n",
        "    f.write(\"ENGLISH TRANSLATION:\\n\")\n",
        "    f.write(\"=\" * 30 + \"\\n\")\n",
        "    f.write(english_translation + \"\\n\")\n",
        "\n",
        "print(f\"\\nFiles saved:\")\n",
        "print(f\"- Hindi transcription: {hindi_filename}\")\n",
        "print(f\"- English translation: {english_filename}\")\n",
        "print(f\"- Combined file: {combined_filename}\")\n",
        "\n",
        "# Download the files\n",
        "files.download(hindi_filename)\n",
        "files.download(english_filename)\n",
        "files.download(combined_filename)\n"
      ],
      "metadata": {
        "id": "j9WFFxA91bPF"
      },
      "execution_count": null,
      "outputs": []
    }
  ]
}